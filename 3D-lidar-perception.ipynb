{
 "cells": [
  {
   "cell_type": "markdown",
   "metadata": {},
   "source": [
    "# 3D Point Cloud Simulation of 2D KITTI LiDAR Dataset using Open3D"
   ]
  },
  {
   "cell_type": "code",
   "execution_count": 3,
   "metadata": {},
   "outputs": [
    {
     "name": "stdout",
     "output_type": "stream",
     "text": [
      "Jupyter environment detected. Enabling Open3D WebVisualizer.\n",
      "[Open3D INFO] WebRTC GUI backend enabled.\n",
      "[Open3D INFO] WebRTCWindowSystem: HTTP handshake server disabled.\n"
     ]
    }
   ],
   "source": [
    "# Import library functions\n",
    "import os\n",
    "import time\n",
    "import requests\n",
    "import math\n",
    "\n",
    "import matplotlib.pyplot as plt\n",
    "import numpy as np\n",
    "import open3d as o3d"
   ]
  },
  {
   "cell_type": "code",
   "execution_count": 4,
   "metadata": {},
   "outputs": [],
   "source": [
    "# Function definition to download the dataset\n",
    "def download_dataset(url, local_filename):\n",
    "\n",
    "    # Update Dropbox link to force download\n",
    "    if \"www.dropbox.com\" in url and \"?dl=0\" in url:\n",
    "        url = url.replace(\"?dl=0\", \"?dl=1\")\n",
    "    \n",
    "    # Send a GET request to the URL\n",
    "    response = requests.get(url)\n",
    "    \n",
    "    # Check if the request was successful\n",
    "    if response.status_code == 200:\n",
    "        # Write the content of the response to a file\n",
    "        with open(local_filename, 'wb') as f:\n",
    "            f.write(response.content)\n",
    "        print(f\"File downloaded and saved as {local_filename}\")\n",
    "    else:\n",
    "        print(f\"Failed to download file. Status code: {response.status_code}\")"
   ]
  },
  {
   "cell_type": "code",
   "execution_count": null,
   "metadata": {},
   "outputs": [],
   "source": [
    "# Download 2D KITTI Depth Frames Dataset \n",
    "# download_dataset('https://www.dropbox.com/scl/fi/wfg0ta7kx57be15hw40wl/archive.zip?rlkey=fei6eqeucmbcbkw478dfsy7qg&dl=1', 'archive.zip')"
   ]
  },
  {
   "cell_type": "markdown",
   "metadata": {},
   "source": [
    "Read 2D Depth Image"
   ]
  },
  {
   "cell_type": "code",
   "execution_count": null,
   "metadata": {},
   "outputs": [],
   "source": [
    "# Read the 2D Depth Image\n",
    "def load_depth_image(file_path):\n",
    "    # Load the depth image\n",
    "    depth_image = plt.imread(file_path)\n",
    "\n",
    "    depth_image_scaling_factor = 250.0\n",
    "    # Assuming the depth image is normalized, we may need to scale it to the actual distance values\n",
    "    # This scaling factor is dataset-specific; you'll need to adjust it based on the KITTI dataset documentation\n",
    "    depth_image *= depth_image_scaling_factor\n",
    "    \n",
    "    return depth_image"
   ]
  },
  {
   "cell_type": "markdown",
   "metadata": {},
   "source": [
    "Converting 2D Depth Frames into 3D Point Cloud"
   ]
  },
  {
   "cell_type": "code",
   "execution_count": null,
   "metadata": {},
   "outputs": [],
   "source": [
    "def depth_image_to_point_cloud(depth_image, h_fov=(-90, 90), v_fov=(-24.9, 2.0), d_range=(0,100)):\n",
    "    # Adjusting angles for broadcasting\n",
    "    h_angles = np.deg2rad(np.linspace(h_fov[0], h_fov[1], depth_image.shape[1]))\n",
    "    v_angles = np.deg2rad(np.linspace(v_fov[0], v_fov[1], depth_image.shape[0]))\n",
    "\n",
    "    # Reshaping angles for broadcasting\n",
    "    h_angles = h_angles[np.newaxis, :]  # Shape becomes (1, 1440)\n",
    "    v_angles = v_angles[:, np.newaxis]  # Shape becomes (64, 1)\n",
    "\n",
    "    # Calculate x, y, and z\n",
    "    x = depth_image * np.sin(h_angles) * np.cos(v_angles)\n",
    "    y = depth_image * np.cos(h_angles) * np.cos(v_angles)\n",
    "    z = depth_image * np.sin(v_angles)\n",
    "\n",
    "    # Filter out points beyond the distance range\n",
    "    valid_indices = (depth_image >= d_range[0]) & (depth_image <= d_range[1])\n",
    "    \n",
    "    # Apply the mask to each coordinate array\n",
    "    x = x[valid_indices]\n",
    "    y = y[valid_indices]\n",
    "    z = z[valid_indices]\n",
    "\n",
    "    # Stack to get the point cloud\n",
    "    point_cloud = np.stack((x, y, z), axis=-1)\n",
    "\n",
    "    return point_cloud"
   ]
  },
  {
   "cell_type": "markdown",
   "metadata": {},
   "source": [
    "Load and Process Frames"
   ]
  },
  {
   "cell_type": "code",
   "execution_count": null,
   "metadata": {},
   "outputs": [],
   "source": [
    "def load_and_process_frames(directory):\n",
    "    point_clouds = []\n",
    "    for filename in sorted(os.listdir(directory)):\n",
    "        if filename.endswith('.png'):  # Check for PNG images\n",
    "            file_path = os.path.join(directory, filename)\n",
    "            depth_image = load_depth_image(file_path)\n",
    "            point_cloud = depth_image_to_point_cloud(depth_image)\n",
    "            point_clouds.append(point_cloud)\n",
    "    return point_clouds"
   ]
  },
  {
   "cell_type": "markdown",
   "metadata": {},
   "source": [
    "Simulate Point Cloud Representation"
   ]
  },
  {
   "cell_type": "code",
   "execution_count": null,
   "metadata": {},
   "outputs": [],
   "source": [
    "def animate_point_clouds(point_clouds):\n",
    "    vis = o3d.visualization.Visualizer()\n",
    "    vis.create_window()\n",
    "\n",
    "    # Set background color to black\n",
    "    vis.get_render_option().background_color = np.array([0, 0, 0])\n",
    "\n",
    "    # Initialize point cloud geometry\n",
    "    point_cloud = o3d.geometry.PointCloud()\n",
    "    point_cloud.points = o3d.utility.Vector3dVector(point_clouds[0])\n",
    "    vis.add_geometry(point_cloud)\n",
    "\n",
    "    frame_index = 0\n",
    "    last_update_time = time.time()\n",
    "    update_interval = 0.25  # Time in seconds between frame updates\n",
    "\n",
    "    while True:\n",
    "        current_time = time.time()\n",
    "        if current_time - last_update_time > update_interval:\n",
    "            # Update point cloud with new data\n",
    "            point_cloud.points = o3d.utility.Vector3dVector(point_clouds[frame_index])\n",
    "            vis.update_geometry(point_cloud)\n",
    "\n",
    "            # Move to the next frame\n",
    "            frame_index = (frame_index + 1) % len(point_clouds)\n",
    "            last_update_time = current_time\n",
    "\n",
    "        vis.poll_events()\n",
    "        vis.update_renderer()\n",
    "\n",
    "        if not vis.poll_events():\n",
    "            break\n",
    "\n",
    "    vis.destroy_window()"
   ]
  },
  {
   "cell_type": "code",
   "execution_count": null,
   "metadata": {},
   "outputs": [],
   "source": [
    "# Directory containing the depth image files\n",
    "directory = 'archive/2011_09_30_drive_0028_sync/2011_09_30_drive_0028_sync/2011_09_30/2011_09_30_drive_0028_sync/velodyne_points/depth_images'\n",
    "\n",
    "# Load and process the frames\n",
    "point_clouds = load_and_process_frames(directory)\n",
    "\n",
    "# Simulate the point clouds\n",
    "animate_point_clouds(point_clouds)"
   ]
  }
 ],
 "metadata": {
  "kernelspec": {
   "display_name": "opencv_env",
   "language": "python",
   "name": "python3"
  },
  "language_info": {
   "codemirror_mode": {
    "name": "ipython",
    "version": 3
   },
   "file_extension": ".py",
   "mimetype": "text/x-python",
   "name": "python",
   "nbconvert_exporter": "python",
   "pygments_lexer": "ipython3",
   "version": "3.9.21"
  }
 },
 "nbformat": 4,
 "nbformat_minor": 2
}
